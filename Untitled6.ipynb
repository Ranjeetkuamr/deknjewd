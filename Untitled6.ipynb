{
 "cells": [
  {
   "cell_type": "code",
   "execution_count": null,
   "id": "7a189513",
   "metadata": {},
   "outputs": [],
   "source": [
    "Q1. Explain the difference between simple linear regression and multiple linear regression. Provide an\n",
    "example of each."
   ]
  },
  {
   "cell_type": "code",
   "execution_count": null,
   "id": "9055898e",
   "metadata": {},
   "outputs": [],
   "source": [
    "Simple linear regression models the relationship between one dependent variable and one independent variable. The goal is to find the best-fitting line through the data points, which can then be used to predict the value of the dependent variable for a given value of the independent variable.\n",
    "\n",
    "Multiple linear regression models the relationship between one dependent variable and two or more independent variables. The goal is to find the best-fitting hyperplane through the data points, which can then be used to predict the value of the dependent variable for a given set of values for the independent variables.\n",
    "\n",
    "Example of simple linear regression:\n",
    "\n",
    "Suppose we are interested in predicting the price of a house based on its square footage. We could collect data on the prices and square footage of a number of houses, and then use simple linear regression to fit a line to the data. The slope of the line would represent the average change in house price for a given change in square footage.\n",
    "\n",
    "Example of multiple linear regression:\n",
    "\n",
    "Suppose we are interested in predicting the salary of a person based on their age, education level, and experience. We could collect data on the salaries, ages, education levels, and experience of a number of people, and then use multiple linear regression to fit a hyperplane to the data. The coefficients of the hyperplane would represent the average change in salary for a given change in each of the independent variables."
   ]
  },
  {
   "cell_type": "code",
   "execution_count": null,
   "id": "2c300bd9",
   "metadata": {},
   "outputs": [],
   "source": [
    "Q2. Discuss the assumptions of linear regression. How can you check whether these assumptions hold in\n",
    "a given dataset?"
   ]
  },
  {
   "cell_type": "code",
   "execution_count": null,
   "id": "00360381",
   "metadata": {},
   "outputs": [],
   "source": [
    "Linearity: The relationship between the independent and dependent variables must be linear. This means that the best-fitting line or hyperplane through the data points should be a straight line.\n",
    "Homoscedasticity: The variance of the residuals (the difference between the actual values of the dependent variable and the predicted values) should be constant across all levels of the independent variables.\n",
    "Independence: The observations in the dataset should be independent of each other. This means that the value of one observation should not be predictable from the values of other observations.\n",
    "Normality: The residuals should be normally distributed"
   ]
  },
  {
   "cell_type": "code",
   "execution_count": null,
   "id": "79d986c5",
   "metadata": {},
   "outputs": [],
   "source": [
    "Q3. How do you interpret the slope and intercept in a linear regression model? Provide an example using\n",
    "a real-world scenario."
   ]
  },
  {
   "cell_type": "code",
   "execution_count": null,
   "id": "4c53a5f7",
   "metadata": {},
   "outputs": [],
   "source": [
    "Slope: The slope of the regression line represents the average change in the dependent variable for a one-unit change in the independent variable. For example, if the slope of a regression line predicting house prices from square footage is 100, then this means that we expect the house price to increase by $100 for every additional square foot of living space.\n",
    "\n",
    "Intercept: The intercept of the regression line represents the predicted value of the dependent variable when the independent variable is equal to zero. However, it is important to note that the intercept may not have a meaningful interpretation in all cases. For example, if we are predicting house prices from square footage, then the intercept of the regression line would be the predicted price of a house with zero square feet of living space. This is clearly not a realistic scenario, so the intercept would not have a meaningful interpretation in this case.\n",
    "\n",
    "Real-world example:\n",
    "\n",
    "Suppose we are interested in predicting the salary of a person based on their age and education level. We collect data on the salaries, ages, and education levels of a number of people, and then use multiple linear regression to fit a hyperplane to the data.\n",
    "\n",
    "The slope coefficient for age would represent the average change in salary for a one-year increase in age. For example, if the slope coefficient for age is 1000, then this means that we expect the salary to increase by $1000 for every additional year of age."
   ]
  },
  {
   "cell_type": "code",
   "execution_count": null,
   "id": "2d128506",
   "metadata": {},
   "outputs": [],
   "source": [
    "Q4. Explain the concept of gradient descent. How is it used in machine learning?"
   ]
  },
  {
   "cell_type": "code",
   "execution_count": null,
   "id": "4f72312a",
   "metadata": {},
   "outputs": [],
   "source": [
    "Gradient descent is an optimization algorithm that is used to find the minimum of a function. It is a very common algorithm in machine learning, and is used to train a wide variety of machine learning models, including linear regression models, logistic regression models, neural networks, and many others"
   ]
  },
  {
   "cell_type": "code",
   "execution_count": null,
   "id": "51823ab7",
   "metadata": {},
   "outputs": [],
   "source": [
    "Q5. Describe the multiple linear regression model. How does it differ from simple linear regression?"
   ]
  },
  {
   "cell_type": "code",
   "execution_count": null,
   "id": "854c61f8",
   "metadata": {},
   "outputs": [],
   "source": [
    "Multiple linear regression is a statistical model that models the relationship between one dependent variable and two or more independent variables. It is a generalization of simple linear regression, which models the relationship between one dependent variable and one independent variable."
   ]
  },
  {
   "cell_type": "code",
   "execution_count": null,
   "id": "e1a8cba2",
   "metadata": {},
   "outputs": [],
   "source": [
    "Q6. Explain the concept of multicollinearity in multiple linear regression. How can you detect and\n",
    "address this issue?"
   ]
  },
  {
   "cell_type": "code",
   "execution_count": null,
   "id": "669c15ff",
   "metadata": {},
   "outputs": [],
   "source": [
    "Multicollinearity is a statistical phenomenon that occurs when two or more independent variables in a multiple linear regression model are highly correlated with each other. This means that one independent variable can be predicted from another independent variable, or from a combination of other independent variables."
   ]
  },
  {
   "cell_type": "code",
   "execution_count": null,
   "id": "027b1551",
   "metadata": {},
   "outputs": [],
   "source": [
    "Q7. Describe the polynomial regression model. How is it different from linear regression?"
   ]
  },
  {
   "cell_type": "code",
   "execution_count": null,
   "id": "d2e49f9b",
   "metadata": {},
   "outputs": [],
   "source": [
    "\n",
    "Polynomial regression is a type of regression analysis that models the relationship between a dependent variable and one or more independent variables using a polynomial function. A polynomial function is a function of one or more variables in which the term with the highest degree of the variable is of the second degree or higher."
   ]
  },
  {
   "cell_type": "code",
   "execution_count": null,
   "id": "f788716d",
   "metadata": {},
   "outputs": [],
   "source": [
    "Q8. What are the advantages and disadvantages of polynomial regression compared to linear\n",
    "regression? In what situations would you prefer to use polynomial regression?"
   ]
  },
  {
   "cell_type": "code",
   "execution_count": null,
   "id": "71607338",
   "metadata": {},
   "outputs": [],
   "source": [
    "\n",
    "Advantages of polynomial regression over linear regression:\n",
    "\n",
    "Polynomial regression can model non-linear relationships between variables, while linear regression can only model linear relationships.\n",
    "Polynomial regression can be used to fit a wider range of data than linear regression.\n",
    "Disadvantages of polynomial regression compared to linear regression:\n",
    "\n",
    "Polynomial regression models are more complex and difficult to interpret than linear regression models.\n",
    "Polynomial regression models are more prone to overfitting than linear regression models.\n",
    "When to use polynomial regression:\n",
    "\n",
    "Polynomial regression should be used when there is a clear non-linear relationship between the dependent and independent variables. For example, if you are modeling the relationship between stock prices and time, you would likely use a polynomial regression model because the relationship between these variables is non-linear."
   ]
  }
 ],
 "metadata": {
  "kernelspec": {
   "display_name": "Python 3 (ipykernel)",
   "language": "python",
   "name": "python3"
  },
  "language_info": {
   "codemirror_mode": {
    "name": "ipython",
    "version": 3
   },
   "file_extension": ".py",
   "mimetype": "text/x-python",
   "name": "python",
   "nbconvert_exporter": "python",
   "pygments_lexer": "ipython3",
   "version": "3.11.3"
  }
 },
 "nbformat": 4,
 "nbformat_minor": 5
}
